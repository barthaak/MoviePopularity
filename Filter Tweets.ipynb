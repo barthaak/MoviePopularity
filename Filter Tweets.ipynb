{
 "cells": [
  {
   "cell_type": "code",
   "execution_count": null,
   "metadata": {},
   "outputs": [],
   "source": [
    "import os\n",
    "\n",
    "# Set spark arguments\n",
    "os.environ[\n",
    "    'PYSPARK_SUBMIT_ARGS'] = '--packages org.apache.spark:spark-sql-kafka-0-10_2.11:2.3.1 --master local[2] pyspark-shell'\n",
    "\n",
    "import findspark\n",
    "\n",
    "# Initialize spark location\n",
    "findspark.init()\n",
    "\n",
    "from pyspark.sql import SparkSession\n",
    "from pyspark.sql.functions import explode, split, concat, lit, col\n",
    "from time import sleep\n",
    "\n",
    "if __name__ == '__main__':\n",
    "    # Create spark session and subscribe to tweets topic\n",
    "    mySpark = SparkSession.builder.appName(\"movieData\").master(\"local\").getOrCreate()\n",
    "    df = mySpark \\\n",
    "        .readStream \\\n",
    "        .format(\"kafka\") \\\n",
    "        .option(\"kafka.bootstrap.servers\", \"localhost:9092\") \\\n",
    "        .option(\"subscribe\", \"tweets\") \\\n",
    "        .option(\"startingOffsets\", \"earliest\") \\\n",
    "        .load()\n",
    "\n",
    "    lines = df.selectExpr(\"CAST(value AS STRING)\")\n",
    "\n",
    "    # Split the lines into words\n",
    "    words = (lines.select(\n",
    "        explode(\n",
    "            split(lines.value, \" \")\n",
    "        ).alias(\"word\"))\n",
    "    ) \n",
    "    \n",
    "    # Load movies from mongodb via spark\n",
    "    movies = mySpark.read.format(\"com.mongodb.spark.sql.DefaultSource\") \\\n",
    "          .option(\"uri\",\"mongodb://localhost:27017/movieDatabase.movies\").load()\n",
    "    \n",
    "    # Create hashtag list\n",
    "    hashtag_list = []\n",
    "    for h in movies.select('title_hashtag').toPandas()['title_hashtag']: # get all documents\n",
    "        hashtag_list.append(h)\n",
    "    \n",
    "    # Count words\n",
    "    words = words.filter(words.word.isin(hashtag_list))\n",
    "    wordCounts = words.groupBy(\"word\").count()\n",
    "    \n",
    "    # Stream wordcounts to tweet_analysis in kafka\n",
    "    query = wordCounts \\\n",
    "              .select(concat(col(\"word\"), lit(\" \"), col(\"count\")).alias(\"value\")) \\\n",
    "              .writeStream \\\n",
    "              .format(\"kafka\") \\\n",
    "              .option(\"kafka.bootstrap.servers\", \"localhost:9092\") \\\n",
    "              .option(\"checkpointLocation\", \"C:\\\\tmp\\\\cp6\")\\\n",
    "              .option(\"topic\", \"tweets_analysis\") \\\n",
    "              .outputMode(\"complete\") \\\n",
    "              .start()\n",
    "    query.awaitTermination()\n"
   ]
  },
  {
   "cell_type": "code",
   "execution_count": null,
   "metadata": {},
   "outputs": [],
   "source": []
  }
 ],
 "metadata": {
  "kernelspec": {
   "display_name": "Python 3",
   "language": "python",
   "name": "python3"
  },
  "language_info": {
   "codemirror_mode": {
    "name": "ipython",
    "version": 3
   },
   "file_extension": ".py",
   "mimetype": "text/x-python",
   "name": "python",
   "nbconvert_exporter": "python",
   "pygments_lexer": "ipython3",
   "version": "3.6.5"
  }
 },
 "nbformat": 4,
 "nbformat_minor": 2
}
