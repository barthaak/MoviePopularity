{
 "cells": [
  {
   "cell_type": "code",
   "execution_count": null,
   "metadata": {},
   "outputs": [],
   "source": [
    "from kafka import KafkaConsumer, TopicPartition\n",
    "import matplotlib.pyplot as plt\n",
    "import seaborn as sns\n",
    "import schedule\n",
    "import time\n",
    "%matplotlib inline\n",
    "\n",
    "def getMovies():\n",
    "    # Create kafka consumer and subsribe to tweets analysis\n",
    "    consumer = KafkaConsumer(bootstrap_servers='localhost:9092',\n",
    "                                     auto_offset_reset='earliest',\n",
    "                                     consumer_timeout_ms=1000)\n",
    "    consumer.subscribe(['tweets_analysis'])\n",
    "    \n",
    "    # Transform the data\n",
    "    words = [(msg.value.decode('utf-8').split(\" \")[0],int(msg.value.decode('utf-8').split(\" \")[1])) for msg in consumer]\n",
    "    word_name, word_frequency = zip(*words)\n",
    "    word_name = list(word_name)\n",
    "    word_frequency = list(word_frequency)\n",
    "    num_titles = len(set(word_name))\n",
    "    titles = zip(word_name[-num_titles:], word_frequency[-num_titles:])\n",
    "    sortList =sorted(titles, key=lambda x: x[1],reverse=True)\n",
    "    word_name, word_frequency = zip(*sortList)\n",
    "    word_name = list(word_name)\n",
    "    word_frequency = list(word_frequency)\n",
    "    titles = word_name[-num_titles:]\n",
    "    title_freq = word_frequency[-num_titles:]\n",
    "    \n",
    "    # plot part of the list (first 29 values)\n",
    "    plt.figure( figsize = ( 10, 8 ) )\n",
    "    sns.barplot( x= title_freq , \n",
    "                y = titles)\n",
    "\n",
    "getMovies()\n",
    "\n",
    "# Print plot every 5 seconds\n",
    "schedule.every(5).seconds.do(getMovies)\n",
    "\n",
    "while 1:\n",
    "    schedule.run_pending()\n",
    "    time.sleep(1)"
   ]
  }
 ],
 "metadata": {
  "kernelspec": {
   "display_name": "Python 3",
   "language": "python",
   "name": "python3"
  },
  "language_info": {
   "codemirror_mode": {
    "name": "ipython",
    "version": 3
   },
   "file_extension": ".py",
   "mimetype": "text/x-python",
   "name": "python",
   "nbconvert_exporter": "python",
   "pygments_lexer": "ipython3",
   "version": "3.6.5"
  }
 },
 "nbformat": 4,
 "nbformat_minor": 2
}
