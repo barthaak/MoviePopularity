{
 "cells": [
  {
   "cell_type": "code",
   "execution_count": 1,
   "metadata": {},
   "outputs": [],
   "source": [
    "import requests\n",
    "import findspark\n",
    "import json\n",
    "findspark.init()\n",
    "\n",
    "from pyspark.sql.functions import *\n",
    "from pyspark.sql.types import *\n",
    "from pyspark.sql import SparkSession\n",
    "\n",
    "key='233da043e658c47fd8661a48c2287fce'\n",
    "url = 'https://api.themoviedb.org/3/'\n",
    "#movie = '{}movie/{}?api_key={}'.format(url,550,key)\n",
    "        "
   ]
  },
  {
   "cell_type": "code",
   "execution_count": 2,
   "metadata": {},
   "outputs": [],
   "source": [
    "if __name__ == '__main__':\n",
    "    my_spark = SparkSession.builder.appName(\"movieData\").master(\"local\").getOrCreate() \n",
    "    sc = my_spark.sparkContext\n",
    "    \n",
    "    now_playing = '{}movie/{}?api_key={}'.format(url,\"now_playing\",key)\n",
    "    response = requests.get(now_playing)\n",
    "    out = response.json()\n",
    "    out = [json.dumps(out)]\n",
    "\n",
    "    rdd = sc.parallelize(out)\n",
    "    data = my_spark.read.json(rdd)\n",
    "    #data.write.mode(\"append\").saveAsTable(\"movies\")\n",
    "    #my_spark.sql(\"SELECT results[1]['title'] FROM movies\").show()\n"
   ]
  },
  {
   "cell_type": "code",
   "execution_count": 4,
   "metadata": {},
   "outputs": [
    {
     "data": {
      "text/plain": [
       "<pymongo.results.DeleteResult at 0x3dd438d108>"
      ]
     },
     "execution_count": 4,
     "metadata": {},
     "output_type": "execute_result"
    }
   ],
   "source": [
    "from pymongo import MongoClient\n",
    "\n",
    "client = MongoClient('localhost', 27017) # connect to the database server\n",
    "db= client.movieDatabase # get a database –alternative client['lab1db']\n",
    "movies = db.movies\n",
    "\n",
    "id_list = []\n",
    "for ids in movies.find({},{ \"title\": 0, \"title_low\":0, \"title_hashtack\":0 }): # get all documents\n",
    "    id_list.append(list(ids.values())[0])\n",
    "    \n",
    "pdData = data.toPandas()\n",
    "results = pdData['results'][0]\n",
    "new_id_list = []\n",
    "for v,w in enumerate(results):\n",
    "    if results[v]['original_language']=='en':\n",
    "        title = results[v]['title']\n",
    "        title_low = title.lower()\n",
    "        title_hashtack = ''.join(('#',title_low.replace(\" \", \"\")))\n",
    "        movie= {\"_id\": results[v]['id'], \"title\": title, \"title_low\":title_low, \"title_hashtack\":title_hashtack}\n",
    "        movies.update_one({ \"_id\" : results[v]['id']},\n",
    "                { \"$set\": { \"title\": title, \"title_low\":title_low, \"title_hashtack\":title_hashtack }}, upsert=True\n",
    "            )\n",
    "        new_id_list.append(results[v]['id'])\n",
    "\n",
    "\n",
    "movies.delete_many( {'_id': { '$in': list( set(id_list) - set(new_id_list) ) } } )\n",
    "        \n"
   ]
  },
  {
   "cell_type": "code",
   "execution_count": 35,
   "metadata": {},
   "outputs": [
    {
     "data": {
      "text/plain": [
       "18"
      ]
     },
     "execution_count": 35,
     "metadata": {},
     "output_type": "execute_result"
    }
   ],
   "source": [
    "len(new_id_list)\n"
   ]
  },
  {
   "cell_type": "code",
   "execution_count": null,
   "metadata": {},
   "outputs": [],
   "source": []
  }
 ],
 "metadata": {
  "kernelspec": {
   "display_name": "Python 3",
   "language": "python",
   "name": "python3"
  },
  "language_info": {
   "codemirror_mode": {
    "name": "ipython",
    "version": 3
   },
   "file_extension": ".py",
   "mimetype": "text/x-python",
   "name": "python",
   "nbconvert_exporter": "python",
   "pygments_lexer": "ipython3",
   "version": "3.6.6"
  }
 },
 "nbformat": 4,
 "nbformat_minor": 2
}
