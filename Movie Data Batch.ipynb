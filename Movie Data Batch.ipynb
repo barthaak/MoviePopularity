{
 "cells": [
  {
   "cell_type": "code",
   "execution_count": null,
   "metadata": {},
   "outputs": [],
   "source": [
    "import requests\n",
    "import findspark\n",
    "import json\n",
    "\n",
    "#initialize spark installation\n",
    "findspark.init()\n",
    "\n",
    "from pyspark.sql.functions import *\n",
    "from pyspark.sql.types import *\n",
    "from pyspark.sql import SparkSession\n",
    "\n",
    "# The Movie DB api key and endpoint\n",
    "key='233da043e658c47fd8661a48c2287fce'\n",
    "url = 'https://api.themoviedb.org/3/'\n",
    "        "
   ]
  },
  {
   "cell_type": "code",
   "execution_count": null,
   "metadata": {},
   "outputs": [],
   "source": [
    "if __name__ == '__main__':\n",
    "    # Create new spark session and context\n",
    "    my_spark = SparkSession.builder.appName(\"movieData\").master(\"local\").getOrCreate() \n",
    "    sc = my_spark.sparkContext\n",
    "    \n",
    "    # Request now playing movies\n",
    "    now_playing = '{}movie/{}?api_key={}'.format(url,\"now_playing\",key)\n",
    "    response = requests.get(now_playing)\n",
    "    # format response\n",
    "    out = response.json()\n",
    "    out = [json.dumps(out)]\n",
    "    \n",
    "    # Read data into spark\n",
    "    rdd = sc.parallelize(out)\n",
    "    data = my_spark.read.json(rdd)\n"
   ]
  },
  {
   "cell_type": "code",
   "execution_count": null,
   "metadata": {
    "scrolled": false
   },
   "outputs": [],
   "source": [
    "from pymongo import MongoClient\n",
    "\n",
    "# Connect to Mongo and Movie database\n",
    "client = MongoClient('localhost', 27017) \n",
    "db = client.movieDatabase \n",
    "movies = db.movies\n",
    "\n",
    "# Create list with all movie id\n",
    "id_list = []\n",
    "for ids in movies.find({},{ \"title\": 0, \"title_low\":0, \"title_hashtag\":0 }):\n",
    "    id_list.append(list(ids.values())[0])\n",
    "    \n",
    "pdData = data.toPandas()\n",
    "results = pdData['results'][0]\n",
    "new_id_list = []\n",
    "\n",
    "# Foreach movie add/update it to the mongo collection\n",
    "for v,w in enumerate(results):\n",
    "    # Only add movie if it is an englisch movie\n",
    "    if results[v]['original_language']=='en':\n",
    "        # Transform the data\n",
    "        title = results[v]['title']\n",
    "        title_low = title.lower()\n",
    "        title_hashtag = ''.join(('#',title_low.replace(\" \", \"\")))\n",
    "        movie= {\"_id\": results[v]['id'], \"title\": title, \"title_low\":title_low, \"title_hashtag\":title_hashtag}\n",
    "        movies.update_one({ \"_id\" : results[v]['id']},\n",
    "                { \"$set\": { \"title\": title, \"title_low\":title_low, \"title_hashtag\":title_hashtag }}, upsert=True\n",
    "            )\n",
    "        new_id_list.append(results[v]['id'])\n",
    "\n",
    "# Remove movies that are no longer playing from the collection\n",
    "movies.delete_many( {'_id': { '$in': list( set(id_list) - set(new_id_list) ) } } )\n",
    "        \n"
   ]
  }
 ],
 "metadata": {
  "kernelspec": {
   "display_name": "Python 3",
   "language": "python",
   "name": "python3"
  },
  "language_info": {
   "codemirror_mode": {
    "name": "ipython",
    "version": 3
   },
   "file_extension": ".py",
   "mimetype": "text/x-python",
   "name": "python",
   "nbconvert_exporter": "python",
   "pygments_lexer": "ipython3",
   "version": "3.6.5"
  }
 },
 "nbformat": 4,
 "nbformat_minor": 2
}
